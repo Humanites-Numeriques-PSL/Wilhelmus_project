{
 "cells": [
  {
   "cell_type": "code",
   "execution_count": 3,
   "id": "d205b190",
   "metadata": {},
   "outputs": [],
   "source": [
    "import pandas as pd\n",
    "from collections import Counter\n",
    "from glob import glob\n",
    "import csv\n",
    "from lxml import etree\n",
    "import os.path as path"
   ]
  },
  {
   "cell_type": "code",
   "execution_count": 31,
   "id": "a49b3640",
   "metadata": {},
   "outputs": [],
   "source": [
    "path_name = 'xml/*.xml'"
   ]
  },
  {
   "cell_type": "code",
   "execution_count": 35,
   "id": "487286e6",
   "metadata": {},
   "outputs": [],
   "source": [
    "def txt_to_xml(path, doc_name):\n",
    "    \n",
    "    chaine = \"\"\n",
    "    with open(path, encoding=\"utf8\") as file_in:\n",
    "        \n",
    "        tree = etree.parse(file_in)\n",
    "\n",
    "        if tree.findall(\".//l\"):\n",
    "            for line in tree.findall(\".//l\"):\n",
    "                if line.text:\n",
    "                    chaine += line.text\n",
    "                    \n",
    "    with open(r\"txt_train/\"+doc_name+\".txt\", \"w\", encoding=\"utf8\") as file_out:\n",
    "        file_out.write(chaine)\n",
    "        "
   ]
  },
  {
   "cell_type": "code",
   "execution_count": 42,
   "id": "920a770a",
   "metadata": {},
   "outputs": [],
   "source": [
    "def moulinette(path_name):\n",
    "    i = 0\n",
    "    for doc in glob(path_name):\n",
    "        doc_name = path.splitext(path.basename(doc))[0]\n",
    "        txt_to_xml(doc, doc_name)"
   ]
  },
  {
   "cell_type": "code",
   "execution_count": 43,
   "id": "15646639",
   "metadata": {},
   "outputs": [],
   "source": [
    "moulinette(path_name)"
   ]
  },
  {
   "cell_type": "code",
   "execution_count": null,
   "id": "2ffffadb",
   "metadata": {},
   "outputs": [],
   "source": []
  },
  {
   "cell_type": "code",
   "execution_count": null,
   "id": "8e7e4729",
   "metadata": {},
   "outputs": [],
   "source": []
  }
 ],
 "metadata": {
  "kernelspec": {
   "display_name": "Python 3",
   "language": "python",
   "name": "python3"
  },
  "language_info": {
   "codemirror_mode": {
    "name": "ipython",
    "version": 3
   },
   "file_extension": ".py",
   "mimetype": "text/x-python",
   "name": "python",
   "nbconvert_exporter": "python",
   "pygments_lexer": "ipython3",
   "version": "3.8.8"
  }
 },
 "nbformat": 4,
 "nbformat_minor": 5
}
