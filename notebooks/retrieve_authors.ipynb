{
 "cells": [
  {
   "cell_type": "code",
   "execution_count": 1,
   "metadata": {},
   "outputs": [],
   "source": [
    "import pandas as pd\n",
    "from collections import Counter\n",
    "from glob import glob\n",
    "import csv\n",
    "from lxml import etree\n",
    "import os.path as path"
   ]
  },
  {
   "cell_type": "code",
   "execution_count": 8,
   "metadata": {},
   "outputs": [],
   "source": [
    "path_name = 'train/*.xml'"
   ]
  },
  {
   "cell_type": "code",
   "execution_count": 5,
   "metadata": {},
   "outputs": [],
   "source": [
    "def retrieve_temp(path, doc_name):\n",
    "    \n",
    "    with open(path, encoding=\"utf8\") as file_in:\n",
    "        \n",
    "        tree = etree.parse(file_in)\n",
    "\n",
    "        if tree.findall(\".//author\"):\n",
    "            for line in tree.findall(\".//author\"):\n",
    "                if line.text:\n",
    "                    auteur = line.text\n",
    "                else:\n",
    "                    auteur = 'Anonymous'\n",
    "        else:\n",
    "            auteur = 'Anonymous'\n",
    "                \n",
    "    return auteur"
   ]
  },
  {
   "cell_type": "code",
   "execution_count": 6,
   "metadata": {},
   "outputs": [],
   "source": [
    "def retrieve_test(path):\n",
    "    \n",
    "    with open(path, encoding=\"utf8\") as file_in: \n",
    "        \n",
    "        tree = etree.parse(file_in)\n",
    "        \n",
    "        if tree.find(\".//author\"):\n",
    "            auteur = tree.find(\".//author\").text\n",
    "        else:\n",
    "            auteur = 'Anonymous'\n",
    "            \n",
    "    return auteur"
   ]
  },
  {
   "cell_type": "code",
   "execution_count": 7,
   "metadata": {},
   "outputs": [],
   "source": [
    "def moulinette(path_name):\n",
    "    \n",
    "    df_index_auteur = pd.DataFrame(columns=['index', 'auteur'])\n",
    "    \n",
    "    for doc in glob(path_name):\n",
    "        doc_name = path.splitext(path.basename(doc))[0]\n",
    "        auteur = retrieve_test(doc)\n",
    "        df_index_auteur.loc[len(df.index)] = [doc_name, auteur]"
   ]
  },
  {
   "cell_type": "code",
   "execution_count": null,
   "metadata": {},
   "outputs": [],
   "source": [
    "df_index_auteur = moulinette(path_name)"
   ]
  },
  {
   "cell_type": "code",
   "execution_count": null,
   "metadata": {},
   "outputs": [],
   "source": [
    "print(df_index_auteur)"
   ]
  },
  {
   "cell_type": "code",
   "execution_count": null,
   "metadata": {},
   "outputs": [],
   "source": [
    "df_index_auteur.to_csv(r'df_index_auteur.csv', index = True)"
   ]
  }
 ],
 "metadata": {
  "kernelspec": {
   "display_name": "Python 3",
   "language": "python",
   "name": "python3"
  },
  "language_info": {
   "codemirror_mode": {
    "name": "ipython",
    "version": 3
   },
   "file_extension": ".py",
   "mimetype": "text/x-python",
   "name": "python",
   "nbconvert_exporter": "python",
   "pygments_lexer": "ipython3",
   "version": "3.8.3"
  }
 },
 "nbformat": 4,
 "nbformat_minor": 4
}
