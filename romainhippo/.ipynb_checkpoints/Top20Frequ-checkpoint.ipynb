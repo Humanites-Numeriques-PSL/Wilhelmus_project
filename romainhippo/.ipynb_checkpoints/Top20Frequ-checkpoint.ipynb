{
 "cells": [
  {
   "cell_type": "code",
   "execution_count": 2,
   "id": "e35f65eb",
   "metadata": {},
   "outputs": [],
   "source": [
    "import pandas as pd"
   ]
  },
  {
   "cell_type": "code",
   "execution_count": 3,
   "id": "eb00939d",
   "metadata": {},
   "outputs": [],
   "source": [
    "df = pd.read_csv('./top20authors.csv')\n",
    "dfTo = pd.read_csv('./../features/FINAL_TRAIN.csv')"
   ]
  },
  {
   "cell_type": "code",
   "execution_count": 5,
   "id": "5b931d90",
   "metadata": {},
   "outputs": [],
   "source": [
    "listeToComp = df['Unnamed: 0'].values.tolist()"
   ]
  },
  {
   "cell_type": "code",
   "execution_count": 6,
   "id": "a4f91893",
   "metadata": {},
   "outputs": [
    {
     "data": {
      "text/plain": [
       "['Karel van Mander',\n",
       " 'C. J. Wits',\n",
       " 'Leenaert Clock',\n",
       " 'Hermanus van den Burg',\n",
       " 'Joan Ysermans',\n",
       " 'Hendrick Jansz. Prins',\n",
       " 'Justus de Harduwijn',\n",
       " 'Jan Jansz. Deutel',\n",
       " 'Frans vander Straten de jongere',\n",
       " 'Zacharias Heyns',\n",
       " 'Aegidius Haeffacker',\n",
       " 'Haerlem Soetendal',\n",
       " 'Michiel Vlack',\n",
       " 'Pieter Brughman',\n",
       " 'Guillaume Abrahams Ooijevaer',\n",
       " 'Jan Zoet',\n",
       " 'Pieter de Bisschop',\n",
       " 'Christianus de Placker',\n",
       " 'Boudewijn Jansen Wellens',\n",
       " 'Jacobus Viverius']"
      ]
     },
     "execution_count": 6,
     "metadata": {},
     "output_type": "execute_result"
    }
   ],
   "source": [
    "listeToComp"
   ]
  },
  {
   "cell_type": "code",
   "execution_count": 11,
   "id": "ff24cda2",
   "metadata": {},
   "outputs": [],
   "source": [
    "dfTo\n",
    "dfFinal = dfTo[dfTo['auteurs'].isin(listeToComp)]"
   ]
  },
  {
   "cell_type": "code",
   "execution_count": 13,
   "id": "7089b1d1",
   "metadata": {},
   "outputs": [],
   "source": [
    "dfFinal.to_csv('FrequenceTop20.csv', index=False)"
   ]
  },
  {
   "cell_type": "code",
   "execution_count": null,
   "id": "c9ba206e",
   "metadata": {},
   "outputs": [],
   "source": []
  }
 ],
 "metadata": {
  "kernelspec": {
   "display_name": "Python 3 (ipykernel)",
   "language": "python",
   "name": "python3"
  },
  "language_info": {
   "codemirror_mode": {
    "name": "ipython",
    "version": 3
   },
   "file_extension": ".py",
   "mimetype": "text/x-python",
   "name": "python",
   "nbconvert_exporter": "python",
   "pygments_lexer": "ipython3",
   "version": "3.9.7"
  }
 },
 "nbformat": 4,
 "nbformat_minor": 5
}
