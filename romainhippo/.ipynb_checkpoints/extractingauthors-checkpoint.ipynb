{
 "cells": [
  {
   "cell_type": "code",
   "execution_count": 1,
   "id": "83a775dd",
   "metadata": {},
   "outputs": [],
   "source": [
    "import pandas as pd"
   ]
  },
  {
   "cell_type": "code",
   "execution_count": 4,
   "id": "f8ec0a15",
   "metadata": {},
   "outputs": [],
   "source": [
    "df = pd.read_csv('./../svm_out/FINAL_PREDICTIONS.csv')"
   ]
  },
  {
   "cell_type": "code",
   "execution_count": 6,
   "id": "ff849568",
   "metadata": {},
   "outputs": [],
   "source": [
    "df = df.T"
   ]
  },
  {
   "cell_type": "code",
   "execution_count": 32,
   "id": "6188a2bb",
   "metadata": {},
   "outputs": [],
   "source": [
    "df = df.iloc[:,1232]"
   ]
  },
  {
   "cell_type": "code",
   "execution_count": 44,
   "id": "88d36614",
   "metadata": {},
   "outputs": [
    {
     "data": {
      "text/plain": [
       "Karel van Mander                    0.09623\n",
       "C. J. Wits                        -0.783447\n",
       "Leenaert Clock                    -0.787453\n",
       "Hermanus van den Burg             -0.807077\n",
       "Joan Ysermans                     -0.877217\n",
       "Hendrick Jansz. Prins             -0.917138\n",
       "Justus de Harduwijn               -0.961572\n",
       "Jan Jansz. Deutel                 -0.964094\n",
       "Frans vander Straten de jongere   -0.995545\n",
       "Zacharias Heyns                   -1.002091\n",
       "Aegidius Haeffacker               -1.013492\n",
       "Haerlem Soetendal                 -1.015488\n",
       "Michiel Vlack                     -1.029794\n",
       "Pieter Brughman                   -1.053942\n",
       "Guillaume Abrahams Ooijevaer      -1.054242\n",
       "Jan Zoet                          -1.071264\n",
       "Pieter de Bisschop                -1.075868\n",
       "Christianus de Placker            -1.085352\n",
       "Boudewijn Jansen Wellens          -1.094389\n",
       "Jacobus Viverius                  -1.123647\n",
       "Name: 1232, dtype: object"
      ]
     },
     "execution_count": 44,
     "metadata": {},
     "output_type": "execute_result"
    }
   ],
   "source": [
    "df2 = df.drop(['Unnamed: 0', 'filename', 'author'])\n",
    "df2 = df2.sort_values(ascending=False)\n",
    "df2 = df2.iloc[:30]\n",
    "df2"
   ]
  },
  {
   "cell_type": "code",
   "execution_count": 45,
   "id": "bec9a700",
   "metadata": {},
   "outputs": [],
   "source": [
    "df2.to_csv('./top20authors.csv')"
   ]
  }
 ],
 "metadata": {
  "kernelspec": {
   "display_name": "Python 3 (ipykernel)",
   "language": "python",
   "name": "python3"
  },
  "language_info": {
   "codemirror_mode": {
    "name": "ipython",
    "version": 3
   },
   "file_extension": ".py",
   "mimetype": "text/x-python",
   "name": "python",
   "nbconvert_exporter": "python",
   "pygments_lexer": "ipython3",
   "version": "3.9.7"
  }
 },
 "nbformat": 4,
 "nbformat_minor": 5
}
