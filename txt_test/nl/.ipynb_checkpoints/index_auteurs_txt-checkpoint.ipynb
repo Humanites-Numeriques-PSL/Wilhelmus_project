{
 "cells": [
  {
   "cell_type": "code",
   "execution_count": 48,
   "id": "82744ae7",
   "metadata": {},
   "outputs": [],
   "source": [
    "import os\n",
    "import pandas as pd"
   ]
  },
  {
   "cell_type": "code",
   "execution_count": 19,
   "id": "cfdc6867",
   "metadata": {},
   "outputs": [],
   "source": [
    "def list_auteur():\n",
    "    list_dir = list(os.listdir())\n",
    "    return list_dir"
   ]
  },
  {
   "cell_type": "code",
   "execution_count": 20,
   "id": "405026a9",
   "metadata": {},
   "outputs": [],
   "source": [
    "list_auteur = list_auteur()"
   ]
  },
  {
   "cell_type": "code",
   "execution_count": 43,
   "id": "79a3fddd",
   "metadata": {},
   "outputs": [],
   "source": [
    "def index_auteur_txt(list_auteur):\n",
    "    dict_auteur = {}\n",
    "\n",
    "    for auteur in list_auteur:\n",
    "        if auteur.split(\".\")[0] == \"index_auteurs_txt\":\n",
    "            return dict_auteur\n",
    "        else:\n",
    "            os.chdir(auteur+'/')\n",
    "        list_txt = list(os.listdir())\n",
    "        for txt in list_txt:\n",
    "            dict_auteur[txt.split(\".\")[0]] = auteur\n",
    "        os.chdir(\"/home/humanum/Documents/Wilhelmus_project/txt/nl/\")\n",
    "    \n",
    "    return dict_auteur"
   ]
  },
  {
   "cell_type": "code",
   "execution_count": 44,
   "id": "43227b96",
   "metadata": {},
   "outputs": [],
   "source": [
    "dict_auteur = index_auteur_txt(list_auteur)"
   ]
  },
  {
   "cell_type": "code",
   "execution_count": 54,
   "id": "d41726ba",
   "metadata": {},
   "outputs": [],
   "source": [
    "zipped = list(zip(dict_auteur.keys(), dict_auteur.values()))\n",
    "df_auteurs = pd.DataFrame(zipped, columns=['Texte', 'Auteur'])"
   ]
  },
  {
   "cell_type": "code",
   "execution_count": 58,
   "id": "8cab854c",
   "metadata": {},
   "outputs": [],
   "source": [
    "df_auteurs.to_csv(r'index_auteur.csv', index = False)"
   ]
  },
  {
   "cell_type": "code",
   "execution_count": 59,
   "id": "faff3397",
   "metadata": {},
   "outputs": [
    {
     "data": {
      "text/html": [
       "<div>\n",
       "<style scoped>\n",
       "    .dataframe tbody tr th:only-of-type {\n",
       "        vertical-align: middle;\n",
       "    }\n",
       "\n",
       "    .dataframe tbody tr th {\n",
       "        vertical-align: top;\n",
       "    }\n",
       "\n",
       "    .dataframe thead th {\n",
       "        text-align: right;\n",
       "    }\n",
       "</style>\n",
       "<table border=\"1\" class=\"dataframe\">\n",
       "  <thead>\n",
       "    <tr style=\"text-align: right;\">\n",
       "      <th></th>\n",
       "      <th>Texte</th>\n",
       "      <th>Auteur</th>\n",
       "    </tr>\n",
       "  </thead>\n",
       "  <tbody>\n",
       "    <tr>\n",
       "      <th>0</th>\n",
       "      <td>188561</td>\n",
       "      <td>J.W. Lustig</td>\n",
       "    </tr>\n",
       "    <tr>\n",
       "      <th>1</th>\n",
       "      <td>188562</td>\n",
       "      <td>J.W. Lustig</td>\n",
       "    </tr>\n",
       "    <tr>\n",
       "      <th>2</th>\n",
       "      <td>188521</td>\n",
       "      <td>J.W. Lustig</td>\n",
       "    </tr>\n",
       "    <tr>\n",
       "      <th>3</th>\n",
       "      <td>188517</td>\n",
       "      <td>J.W. Lustig</td>\n",
       "    </tr>\n",
       "    <tr>\n",
       "      <th>4</th>\n",
       "      <td>188564</td>\n",
       "      <td>J.W. Lustig</td>\n",
       "    </tr>\n",
       "    <tr>\n",
       "      <th>...</th>\n",
       "      <td>...</td>\n",
       "      <td>...</td>\n",
       "    </tr>\n",
       "    <tr>\n",
       "      <th>14357</th>\n",
       "      <td>3259</td>\n",
       "      <td>Joannes Cloeck</td>\n",
       "    </tr>\n",
       "    <tr>\n",
       "      <th>14358</th>\n",
       "      <td>3273</td>\n",
       "      <td>Joannes Cloeck</td>\n",
       "    </tr>\n",
       "    <tr>\n",
       "      <th>14359</th>\n",
       "      <td>3263</td>\n",
       "      <td>Joannes Cloeck</td>\n",
       "    </tr>\n",
       "    <tr>\n",
       "      <th>14360</th>\n",
       "      <td>3241</td>\n",
       "      <td>Joannes Cloeck</td>\n",
       "    </tr>\n",
       "    <tr>\n",
       "      <th>14361</th>\n",
       "      <td>3248</td>\n",
       "      <td>Joannes Cloeck</td>\n",
       "    </tr>\n",
       "  </tbody>\n",
       "</table>\n",
       "<p>14362 rows × 2 columns</p>\n",
       "</div>"
      ],
      "text/plain": [
       "        Texte          Auteur\n",
       "0      188561     J.W. Lustig\n",
       "1      188562     J.W. Lustig\n",
       "2      188521     J.W. Lustig\n",
       "3      188517     J.W. Lustig\n",
       "4      188564     J.W. Lustig\n",
       "...       ...             ...\n",
       "14357    3259  Joannes Cloeck\n",
       "14358    3273  Joannes Cloeck\n",
       "14359    3263  Joannes Cloeck\n",
       "14360    3241  Joannes Cloeck\n",
       "14361    3248  Joannes Cloeck\n",
       "\n",
       "[14362 rows x 2 columns]"
      ]
     },
     "execution_count": 59,
     "metadata": {},
     "output_type": "execute_result"
    }
   ],
   "source": [
    "df_auteurs"
   ]
  },
  {
   "cell_type": "code",
   "execution_count": null,
   "id": "e2525986",
   "metadata": {},
   "outputs": [],
   "source": []
  }
 ],
 "metadata": {
  "kernelspec": {
   "display_name": "Python 3",
   "language": "python",
   "name": "python3"
  },
  "language_info": {
   "codemirror_mode": {
    "name": "ipython",
    "version": 3
   },
   "file_extension": ".py",
   "mimetype": "text/x-python",
   "name": "python",
   "nbconvert_exporter": "python",
   "pygments_lexer": "ipython3",
   "version": "3.8.8"
  }
 },
 "nbformat": 4,
 "nbformat_minor": 5
}
